{
  "nbformat": 4,
  "nbformat_minor": 0,
  "metadata": {
    "colab": {
      "name": "Desafio_Loggi_código.ipynb",
      "provenance": [],
      "collapsed_sections": []
    },
    "kernelspec": {
      "name": "python3",
      "display_name": "Python 3"
    },
    "language_info": {
      "name": "python"
    }
  },
  "cells": [
    {
      "cell_type": "code",
      "metadata": {
        "id": "dbQBKqwItuo0"
      },
      "source": [
        "#Importando as bibliotecas\n",
        "import pandas as pd\n",
        "import numpy as np"
      ],
      "execution_count": 1,
      "outputs": []
    },
    {
      "cell_type": "code",
      "metadata": {
        "colab": {
          "base_uri": "https://localhost:8080/"
        },
        "id": "psD4oTsJt4uR",
        "outputId": "cd483ec5-0fda-4ea0-bcf5-a9151f91f03a"
      },
      "source": [
        "#Baixando os dados disponibilizados pela Loggi (git)\n",
        "!wget https://github.com/vlsantos-bit/Desafio_Tec_Leitor_Cod_Loggi/archive/refs/heads/main.zip"
      ],
      "execution_count": 2,
      "outputs": [
        {
          "output_type": "stream",
          "text": [
            "--2021-06-27 17:36:27--  https://github.com/vlsantos-bit/Desafio_Tec_Leitor_Cod_Loggi/archive/refs/heads/main.zip\n",
            "Resolving github.com (github.com)... 140.82.113.4\n",
            "Connecting to github.com (github.com)|140.82.113.4|:443... connected.\n",
            "HTTP request sent, awaiting response... 302 Found\n",
            "Location: https://codeload.github.com/vlsantos-bit/Desafio_Tec_Leitor_Cod_Loggi/zip/refs/heads/main [following]\n",
            "--2021-06-27 17:36:27--  https://codeload.github.com/vlsantos-bit/Desafio_Tec_Leitor_Cod_Loggi/zip/refs/heads/main\n",
            "Resolving codeload.github.com (codeload.github.com)... 140.82.114.10\n",
            "Connecting to codeload.github.com (codeload.github.com)|140.82.114.10|:443... connected.\n",
            "HTTP request sent, awaiting response... 200 OK\n",
            "Length: 1155 (1.1K) [application/zip]\n",
            "Saving to: ‘main.zip.1’\n",
            "\n",
            "main.zip.1          100%[===================>]   1.13K  --.-KB/s    in 0s      \n",
            "\n",
            "2021-06-27 17:36:27 (16.7 MB/s) - ‘main.zip.1’ saved [1155/1155]\n",
            "\n"
          ],
          "name": "stdout"
        }
      ]
    },
    {
      "cell_type": "code",
      "metadata": {
        "colab": {
          "base_uri": "https://localhost:8080/"
        },
        "id": "UzSEX4NiuJim",
        "outputId": "582fd32f-1f2d-4e32-90ec-76ad28ef71eb"
      },
      "source": [
        "#Descompactando zip\n",
        "!unzip main.zip "
      ],
      "execution_count": 3,
      "outputs": [
        {
          "output_type": "stream",
          "text": [
            "Archive:  main.zip\n",
            "77dbe12bb58618ebba7df59bb60bf9ba9fd6f31e\n",
            "replace Desafio_Tec_Leitor_Cod_Loggi-main/README.md? [y]es, [n]o, [A]ll, [N]one, [r]ename: A\n",
            " extracting: Desafio_Tec_Leitor_Cod_Loggi-main/README.md  \n",
            "  inflating: Desafio_Tec_Leitor_Cod_Loggi-main/dados.csv  \n",
            " extracting: Desafio_Tec_Leitor_Cod_Loggi-main/dados.rar  \n"
          ],
          "name": "stdout"
        }
      ]
    },
    {
      "cell_type": "code",
      "metadata": {
        "id": "Hu2GsP_CuMPm"
      },
      "source": [
        "#Abrindo e renomeando os dados\n",
        "leg = ['pacotes','cod']\n",
        "da = pd.read_csv('Desafio_Tec_Leitor_Cod_Loggi-main/dados.csv', sep=';', names=leg)"
      ],
      "execution_count": 4,
      "outputs": []
    },
    {
      "cell_type": "code",
      "metadata": {
        "id": "2Qx9XMojcYXS"
      },
      "source": [
        "#Dicionários de consulta\n",
        "loca = {'111':'Centro-oeste','333':'Nordeste','555':'Norte','888':'Sudeste','000':'Sul'}\n",
        "obj = {'000':'joias','111':'livro','333':'eletronico','555':'bebidas','888':'brinquedos'}"
      ],
      "execution_count": 5,
      "outputs": []
    },
    {
      "cell_type": "code",
      "metadata": {
        "id": "dC3CFpDt_r-X"
      },
      "source": [
        "#a) Identificar o destino de cada pacote.\n",
        "def local(dado): \n",
        "    da_t = dado\n",
        "    df = da_t['cod']\n",
        "    nd=[]\n",
        "    for i in range(0,3,1):\n",
        "        nd.append(\"{:,}\".format(df[i]))\n",
        "    for i in range(3,6,1):\n",
        "        nd.append(\"{:,}\".format(df[i]))\n",
        "    for i in range(6,9,1):\n",
        "        nd.append(\"{:,}\".format(df[i]))\n",
        "    for i in range(9,12,1):\n",
        "        nd.append(\"{:,}\".format(df[i]))\n",
        "    for i in range(12,15,1):\n",
        "        nd.append(\"{:,}\".format(df[i]))\n",
        "    nd=pd.DataFrame(nd,columns=['cod1'])\n",
        "    da1 = da.join(nd)\n",
        "    df2 = da1.assign(names=da1.cod1.str.split(\",\"))\n",
        "    df2=df2.names.apply(pd.Series)\n",
        "    da_d = da1.join(df2)\n",
        "    da_d.columns = ['pacotes','cod','cod1','origem','destino','cod_logg','cod_vend','produto']\n",
        "    da_d=da_d.drop(columns=['cod','cod_logg','cod_vend','produto'])\n",
        "    da_d=da_d.replace({\"destino\": loca})\n",
        "    print(\"Destinos\")\n",
        "    return da_d"
      ],
      "execution_count": 6,
      "outputs": []
    },
    {
      "cell_type": "code",
      "metadata": {
        "colab": {
          "base_uri": "https://localhost:8080/",
          "height": 536
        },
        "id": "b060GtkizUgX",
        "outputId": "0067511a-2b0e-49ab-f88a-28c2d1ce5286"
      },
      "source": [
        "#Identificar o destino de cada pacote.\n",
        "\n",
        "local(da)"
      ],
      "execution_count": 7,
      "outputs": [
        {
          "output_type": "stream",
          "text": [
            "Destinos\n"
          ],
          "name": "stdout"
        },
        {
          "output_type": "execute_result",
          "data": {
            "text/html": [
              "<div>\n",
              "<style scoped>\n",
              "    .dataframe tbody tr th:only-of-type {\n",
              "        vertical-align: middle;\n",
              "    }\n",
              "\n",
              "    .dataframe tbody tr th {\n",
              "        vertical-align: top;\n",
              "    }\n",
              "\n",
              "    .dataframe thead th {\n",
              "        text-align: right;\n",
              "    }\n",
              "</style>\n",
              "<table border=\"1\" class=\"dataframe\">\n",
              "  <thead>\n",
              "    <tr style=\"text-align: right;\">\n",
              "      <th></th>\n",
              "      <th>pacotes</th>\n",
              "      <th>cod1</th>\n",
              "      <th>origem</th>\n",
              "      <th>destino</th>\n",
              "    </tr>\n",
              "  </thead>\n",
              "  <tbody>\n",
              "    <tr>\n",
              "      <th>0</th>\n",
              "      <td>Pacote1</td>\n",
              "      <td>888,555,555,123,888</td>\n",
              "      <td>888</td>\n",
              "      <td>Norte</td>\n",
              "    </tr>\n",
              "    <tr>\n",
              "      <th>1</th>\n",
              "      <td>Pacote2</td>\n",
              "      <td>333,333,555,584,333</td>\n",
              "      <td>333</td>\n",
              "      <td>Nordeste</td>\n",
              "    </tr>\n",
              "    <tr>\n",
              "      <th>2</th>\n",
              "      <td>Pacote3</td>\n",
              "      <td>222,333,555,124,000</td>\n",
              "      <td>222</td>\n",
              "      <td>Nordeste</td>\n",
              "    </tr>\n",
              "    <tr>\n",
              "      <th>3</th>\n",
              "      <td>Pacote4</td>\n",
              "      <td>111,555,874,555</td>\n",
              "      <td>111</td>\n",
              "      <td>Norte</td>\n",
              "    </tr>\n",
              "    <tr>\n",
              "      <th>4</th>\n",
              "      <td>Pacote5</td>\n",
              "      <td>111,888,555,654,777</td>\n",
              "      <td>111</td>\n",
              "      <td>Sudeste</td>\n",
              "    </tr>\n",
              "    <tr>\n",
              "      <th>5</th>\n",
              "      <td>Pacote6</td>\n",
              "      <td>111,333,555,123,333</td>\n",
              "      <td>111</td>\n",
              "      <td>Nordeste</td>\n",
              "    </tr>\n",
              "    <tr>\n",
              "      <th>6</th>\n",
              "      <td>Pacote7</td>\n",
              "      <td>555,555,555,123,888</td>\n",
              "      <td>555</td>\n",
              "      <td>Norte</td>\n",
              "    </tr>\n",
              "    <tr>\n",
              "      <th>7</th>\n",
              "      <td>Pacote8</td>\n",
              "      <td>888,333,555,584,333</td>\n",
              "      <td>888</td>\n",
              "      <td>Nordeste</td>\n",
              "    </tr>\n",
              "    <tr>\n",
              "      <th>8</th>\n",
              "      <td>Pacote9</td>\n",
              "      <td>111,333,555,124,000</td>\n",
              "      <td>111</td>\n",
              "      <td>Nordeste</td>\n",
              "    </tr>\n",
              "    <tr>\n",
              "      <th>9</th>\n",
              "      <td>Pacote10</td>\n",
              "      <td>333,888,555,584,333</td>\n",
              "      <td>333</td>\n",
              "      <td>Sudeste</td>\n",
              "    </tr>\n",
              "    <tr>\n",
              "      <th>10</th>\n",
              "      <td>Pacote11</td>\n",
              "      <td>555,888,555,123,000</td>\n",
              "      <td>555</td>\n",
              "      <td>Sudeste</td>\n",
              "    </tr>\n",
              "    <tr>\n",
              "      <th>11</th>\n",
              "      <td>Pacote12</td>\n",
              "      <td>111,888,555,123,555</td>\n",
              "      <td>111</td>\n",
              "      <td>Sudeste</td>\n",
              "    </tr>\n",
              "    <tr>\n",
              "      <th>12</th>\n",
              "      <td>Pacote13</td>\n",
              "      <td>888,000,555,845,333</td>\n",
              "      <td>888</td>\n",
              "      <td>Sul</td>\n",
              "    </tr>\n",
              "    <tr>\n",
              "      <th>13</th>\n",
              "      <td>Pacote14</td>\n",
              "      <td>111,555,874,000</td>\n",
              "      <td>111</td>\n",
              "      <td>Norte</td>\n",
              "    </tr>\n",
              "    <tr>\n",
              "      <th>14</th>\n",
              "      <td>Pacote15</td>\n",
              "      <td>111,333,555,123,555</td>\n",
              "      <td>111</td>\n",
              "      <td>Nordeste</td>\n",
              "    </tr>\n",
              "  </tbody>\n",
              "</table>\n",
              "</div>"
            ],
            "text/plain": [
              "     pacotes                 cod1 origem   destino\n",
              "0    Pacote1  888,555,555,123,888    888     Norte\n",
              "1    Pacote2  333,333,555,584,333    333  Nordeste\n",
              "2    Pacote3  222,333,555,124,000    222  Nordeste\n",
              "3    Pacote4      111,555,874,555    111     Norte\n",
              "4    Pacote5  111,888,555,654,777    111   Sudeste\n",
              "5    Pacote6  111,333,555,123,333    111  Nordeste\n",
              "6    Pacote7  555,555,555,123,888    555     Norte\n",
              "7    Pacote8  888,333,555,584,333    888  Nordeste\n",
              "8    Pacote9  111,333,555,124,000    111  Nordeste\n",
              "9   Pacote10  333,888,555,584,333    333   Sudeste\n",
              "10  Pacote11  555,888,555,123,000    555   Sudeste\n",
              "11  Pacote12  111,888,555,123,555    111   Sudeste\n",
              "12  Pacote13  888,000,555,845,333    888       Sul\n",
              "13  Pacote14      111,555,874,000    111     Norte\n",
              "14  Pacote15  111,333,555,123,555    111  Nordeste"
            ]
          },
          "metadata": {
            "tags": []
          },
          "execution_count": 7
        }
      ]
    },
    {
      "cell_type": "code",
      "metadata": {
        "id": "dO5m8GvvYvDZ"
      },
      "source": [
        "#Função para ajustar os dados validos\n",
        "def ajust(dado):\n",
        "    #Removendo conjunto fora da Loggi\n",
        "    da_t = dado.drop(dado[dado.cod < 999999999999].index).reset_index(drop=True)\n",
        "    df = da_t['cod']\n",
        "    nd=[]\n",
        "    for i in range(0,3,1):\n",
        "        nd.append(\"{:,}\".format(df[i]))\n",
        "    for i in range(3,6,1):\n",
        "        nd.append(\"{:,}\".format(df[i]))\n",
        "    for i in range(6,9,1):\n",
        "        nd.append(\"{:,}\".format(df[i]))\n",
        "    for i in range(9,12,1):\n",
        "        nd.append(\"{:,}\".format(df[i]))\n",
        "    for i in range(12,13,1):\n",
        "        nd.append(\"{:,}\".format(df[i]))\n",
        "    nd=pd.DataFrame(nd,columns=['cod1'])\n",
        "    da1 = da_t.join(nd)\n",
        "    df2 = da1.assign(names=da1.cod1.str.split(\",\"))\n",
        "    df2=df2.names.apply(pd.Series)\n",
        "    da_d = da1.join(df2)\n",
        "    #Separando código\n",
        "    da_d.columns = ['pacotes','cod','cod1','origem','destino','cod_logg','cod_vend','produto']\n",
        "    da_d=da_d.drop(columns=['cod','cod1'])\n",
        "    #Aplicando considerações e verificações:\n",
        "    #1)Removendo vendedor com  CNPJ inativo\n",
        "    da_d = da_d[da_d.cod_vend != '584']\n",
        "    da_d.reset_index(drop=True, inplace=True)\n",
        "    #2)Removendo Origem Centro-oeste(joias)\n",
        "    da_d = da_d[~((da_d['origem'] == '111') & (da_d['produto'] == '000'))]\n",
        "    da_d.reset_index(drop=True, inplace=True)\n",
        "    #Ajuste para facilitar a visualização da tabela \n",
        "    da_d=da_d.replace({\"destino\": loca})\n",
        "    da_d=da_d.replace({\"origem\": loca})\n",
        "    da_d=da_d.replace({\"produto\": obj})\n",
        "    #3)Removendo produtos que não estão na lista\n",
        "    produt_v = ['brinquedos','joias','eletronico','bebidas','Livros']\n",
        "    da_d=da_d[da_d.produto.isin(produt_v)]\n",
        "    da_d.reset_index(drop=True, inplace=True)\n",
        "    #4)Vericando se origem consta na tabela\n",
        "    orig = ['Sudeste','Norte','Nordeste','Centro-oeste','Sul']\n",
        "    da_d=da_d[da_d.origem.isin(orig)]\n",
        "    da_d.reset_index(drop=True, inplace=True)\n",
        "    print(\"Pacotes Válidos\")\n",
        "    return da_d"
      ],
      "execution_count": 8,
      "outputs": []
    },
    {
      "cell_type": "code",
      "metadata": {
        "colab": {
          "base_uri": "https://localhost:8080/",
          "height": 286
        },
        "id": "fxDy4zqVfaIz",
        "outputId": "cb718e3e-2f86-485e-a8d4-c8bdfbecdaaa"
      },
      "source": [
        "#b) Saber quais pacotes possuem códigos de barras válidos e/ou inválidos.\n",
        "r_dado=ajust(da)\n",
        "r_dado"
      ],
      "execution_count": 9,
      "outputs": [
        {
          "output_type": "stream",
          "text": [
            "Pacotes Válidos\n"
          ],
          "name": "stdout"
        },
        {
          "output_type": "execute_result",
          "data": {
            "text/html": [
              "<div>\n",
              "<style scoped>\n",
              "    .dataframe tbody tr th:only-of-type {\n",
              "        vertical-align: middle;\n",
              "    }\n",
              "\n",
              "    .dataframe tbody tr th {\n",
              "        vertical-align: top;\n",
              "    }\n",
              "\n",
              "    .dataframe thead th {\n",
              "        text-align: right;\n",
              "    }\n",
              "</style>\n",
              "<table border=\"1\" class=\"dataframe\">\n",
              "  <thead>\n",
              "    <tr style=\"text-align: right;\">\n",
              "      <th></th>\n",
              "      <th>pacotes</th>\n",
              "      <th>origem</th>\n",
              "      <th>destino</th>\n",
              "      <th>cod_logg</th>\n",
              "      <th>cod_vend</th>\n",
              "      <th>produto</th>\n",
              "    </tr>\n",
              "  </thead>\n",
              "  <tbody>\n",
              "    <tr>\n",
              "      <th>0</th>\n",
              "      <td>Pacote1</td>\n",
              "      <td>Sudeste</td>\n",
              "      <td>Norte</td>\n",
              "      <td>555</td>\n",
              "      <td>123</td>\n",
              "      <td>brinquedos</td>\n",
              "    </tr>\n",
              "    <tr>\n",
              "      <th>1</th>\n",
              "      <td>Pacote6</td>\n",
              "      <td>Centro-oeste</td>\n",
              "      <td>Nordeste</td>\n",
              "      <td>555</td>\n",
              "      <td>123</td>\n",
              "      <td>eletronico</td>\n",
              "    </tr>\n",
              "    <tr>\n",
              "      <th>2</th>\n",
              "      <td>Pacote7</td>\n",
              "      <td>Norte</td>\n",
              "      <td>Norte</td>\n",
              "      <td>555</td>\n",
              "      <td>123</td>\n",
              "      <td>brinquedos</td>\n",
              "    </tr>\n",
              "    <tr>\n",
              "      <th>3</th>\n",
              "      <td>Pacote11</td>\n",
              "      <td>Norte</td>\n",
              "      <td>Sudeste</td>\n",
              "      <td>555</td>\n",
              "      <td>123</td>\n",
              "      <td>joias</td>\n",
              "    </tr>\n",
              "    <tr>\n",
              "      <th>4</th>\n",
              "      <td>Pacote12</td>\n",
              "      <td>Centro-oeste</td>\n",
              "      <td>Sudeste</td>\n",
              "      <td>555</td>\n",
              "      <td>123</td>\n",
              "      <td>bebidas</td>\n",
              "    </tr>\n",
              "    <tr>\n",
              "      <th>5</th>\n",
              "      <td>Pacote13</td>\n",
              "      <td>Sudeste</td>\n",
              "      <td>Sul</td>\n",
              "      <td>555</td>\n",
              "      <td>845</td>\n",
              "      <td>eletronico</td>\n",
              "    </tr>\n",
              "    <tr>\n",
              "      <th>6</th>\n",
              "      <td>Pacote15</td>\n",
              "      <td>Centro-oeste</td>\n",
              "      <td>Nordeste</td>\n",
              "      <td>555</td>\n",
              "      <td>123</td>\n",
              "      <td>bebidas</td>\n",
              "    </tr>\n",
              "  </tbody>\n",
              "</table>\n",
              "</div>"
            ],
            "text/plain": [
              "    pacotes        origem   destino cod_logg cod_vend     produto\n",
              "0   Pacote1       Sudeste     Norte      555      123  brinquedos\n",
              "1   Pacote6  Centro-oeste  Nordeste      555      123  eletronico\n",
              "2   Pacote7         Norte     Norte      555      123  brinquedos\n",
              "3  Pacote11         Norte   Sudeste      555      123       joias\n",
              "4  Pacote12  Centro-oeste   Sudeste      555      123     bebidas\n",
              "5  Pacote13       Sudeste       Sul      555      845  eletronico\n",
              "6  Pacote15  Centro-oeste  Nordeste      555      123     bebidas"
            ]
          },
          "metadata": {
            "tags": []
          },
          "execution_count": 9
        }
      ]
    },
    {
      "cell_type": "code",
      "metadata": {
        "colab": {
          "base_uri": "https://localhost:8080/"
        },
        "id": "5M_pV_3iKHMl",
        "outputId": "b01472e8-689a-4d0f-f09b-f92dc25cf6d1"
      },
      "source": [
        "r_dado=ajust(da)\n",
        "#c) Identificar se algum pacote que tem como origem a região Sul tem Brinquedos em seu conteúdo.\n",
        "#Mudar parametrizações, ex:Origem==produto\n",
        "r_dado=r_dado['origem'].str.contains('Sul') & r_dado['produto'].str.contains('brinquedos')\n",
        "if r_dado.any()>0:\n",
        "    print(\"Produto indentificado\")\n",
        "else:\n",
        "    print(\"Produto não indentificado na região selecionada\")\n"
      ],
      "execution_count": 19,
      "outputs": [
        {
          "output_type": "stream",
          "text": [
            "Pacotes Válidos\n",
            "Produto não indentificado na região selecionada\n"
          ],
          "name": "stdout"
        }
      ]
    },
    {
      "cell_type": "code",
      "metadata": {
        "id": "2BYcS7W2x2kF",
        "colab": {
          "base_uri": "https://localhost:8080/",
          "height": 224
        },
        "outputId": "b41dffad-5fc1-4612-80a3-c8b638aed3b0"
      },
      "source": [
        "#d)Listar os pacotes agrupados por região de destino (Considere apenas pacotes válidos)\n",
        "r_dado=ajust(da)\n",
        "r_dado=r_dado.drop(columns=['origem','cod_logg','cod_vend','produto'])\n",
        "test=r_dado.groupby(by=[\"destino\"]).sum()\n",
        "test"
      ],
      "execution_count": 13,
      "outputs": [
        {
          "output_type": "stream",
          "text": [
            "Pacotes Válidos\n"
          ],
          "name": "stdout"
        },
        {
          "output_type": "execute_result",
          "data": {
            "text/html": [
              "<div>\n",
              "<style scoped>\n",
              "    .dataframe tbody tr th:only-of-type {\n",
              "        vertical-align: middle;\n",
              "    }\n",
              "\n",
              "    .dataframe tbody tr th {\n",
              "        vertical-align: top;\n",
              "    }\n",
              "\n",
              "    .dataframe thead th {\n",
              "        text-align: right;\n",
              "    }\n",
              "</style>\n",
              "<table border=\"1\" class=\"dataframe\">\n",
              "  <thead>\n",
              "    <tr style=\"text-align: right;\">\n",
              "      <th></th>\n",
              "      <th>pacotes</th>\n",
              "    </tr>\n",
              "    <tr>\n",
              "      <th>destino</th>\n",
              "      <th></th>\n",
              "    </tr>\n",
              "  </thead>\n",
              "  <tbody>\n",
              "    <tr>\n",
              "      <th>Nordeste</th>\n",
              "      <td>Pacote6Pacote15</td>\n",
              "    </tr>\n",
              "    <tr>\n",
              "      <th>Norte</th>\n",
              "      <td>Pacote1Pacote7</td>\n",
              "    </tr>\n",
              "    <tr>\n",
              "      <th>Sudeste</th>\n",
              "      <td>Pacote11Pacote12</td>\n",
              "    </tr>\n",
              "    <tr>\n",
              "      <th>Sul</th>\n",
              "      <td>Pacote13</td>\n",
              "    </tr>\n",
              "  </tbody>\n",
              "</table>\n",
              "</div>"
            ],
            "text/plain": [
              "                   pacotes\n",
              "destino                   \n",
              "Nordeste   Pacote6Pacote15\n",
              "Norte       Pacote1Pacote7\n",
              "Sudeste   Pacote11Pacote12\n",
              "Sul               Pacote13"
            ]
          },
          "metadata": {
            "tags": []
          },
          "execution_count": 13
        }
      ]
    },
    {
      "cell_type": "code",
      "metadata": {
        "id": "7_Nb_jpp1CTj",
        "colab": {
          "base_uri": "https://localhost:8080/",
          "height": 148
        },
        "outputId": "db54669f-b32e-487c-fd52-947e17f9b11c"
      },
      "source": [
        "#e)Listar o número de pacotes enviados por cada vendedor (Considere apenas pacotes válidos).\n",
        "r_dado=ajust(da)\n",
        "r_dado=r_dado.drop(columns=['origem','cod_logg','produto','destino'])\n",
        "test=r_dado.groupby(by=[\"cod_vend\"]).count().reset_index()\n",
        "print('Pacotes enviados por cada vendendor')\n",
        "test"
      ],
      "execution_count": 14,
      "outputs": [
        {
          "output_type": "stream",
          "text": [
            "Pacotes Válidos\n",
            "Pacotes enviados por cada vendendor\n"
          ],
          "name": "stdout"
        },
        {
          "output_type": "execute_result",
          "data": {
            "text/html": [
              "<div>\n",
              "<style scoped>\n",
              "    .dataframe tbody tr th:only-of-type {\n",
              "        vertical-align: middle;\n",
              "    }\n",
              "\n",
              "    .dataframe tbody tr th {\n",
              "        vertical-align: top;\n",
              "    }\n",
              "\n",
              "    .dataframe thead th {\n",
              "        text-align: right;\n",
              "    }\n",
              "</style>\n",
              "<table border=\"1\" class=\"dataframe\">\n",
              "  <thead>\n",
              "    <tr style=\"text-align: right;\">\n",
              "      <th></th>\n",
              "      <th>cod_vend</th>\n",
              "      <th>pacotes</th>\n",
              "    </tr>\n",
              "  </thead>\n",
              "  <tbody>\n",
              "    <tr>\n",
              "      <th>0</th>\n",
              "      <td>123</td>\n",
              "      <td>6</td>\n",
              "    </tr>\n",
              "    <tr>\n",
              "      <th>1</th>\n",
              "      <td>845</td>\n",
              "      <td>1</td>\n",
              "    </tr>\n",
              "  </tbody>\n",
              "</table>\n",
              "</div>"
            ],
            "text/plain": [
              "  cod_vend  pacotes\n",
              "0      123        6\n",
              "1      845        1"
            ]
          },
          "metadata": {
            "tags": []
          },
          "execution_count": 14
        }
      ]
    },
    {
      "cell_type": "code",
      "metadata": {
        "id": "TpHJkgxc1Wy0",
        "colab": {
          "base_uri": "https://localhost:8080/",
          "height": 286
        },
        "outputId": "73ce6aa9-b851-4c4a-da39-d243b125b6f3"
      },
      "source": [
        "#Gerar o relatório/lista de pacotes por destino e por tipo (Considere apenas pacotes válidos).\n",
        "r_dado=ajust(da)\n",
        "r_dado=r_dado.drop(columns=['origem','cod_logg','cod_vend'])\n",
        "r_dado"
      ],
      "execution_count": 15,
      "outputs": [
        {
          "output_type": "stream",
          "text": [
            "Pacotes Válidos\n"
          ],
          "name": "stdout"
        },
        {
          "output_type": "execute_result",
          "data": {
            "text/html": [
              "<div>\n",
              "<style scoped>\n",
              "    .dataframe tbody tr th:only-of-type {\n",
              "        vertical-align: middle;\n",
              "    }\n",
              "\n",
              "    .dataframe tbody tr th {\n",
              "        vertical-align: top;\n",
              "    }\n",
              "\n",
              "    .dataframe thead th {\n",
              "        text-align: right;\n",
              "    }\n",
              "</style>\n",
              "<table border=\"1\" class=\"dataframe\">\n",
              "  <thead>\n",
              "    <tr style=\"text-align: right;\">\n",
              "      <th></th>\n",
              "      <th>pacotes</th>\n",
              "      <th>destino</th>\n",
              "      <th>produto</th>\n",
              "    </tr>\n",
              "  </thead>\n",
              "  <tbody>\n",
              "    <tr>\n",
              "      <th>0</th>\n",
              "      <td>Pacote1</td>\n",
              "      <td>Norte</td>\n",
              "      <td>brinquedos</td>\n",
              "    </tr>\n",
              "    <tr>\n",
              "      <th>1</th>\n",
              "      <td>Pacote6</td>\n",
              "      <td>Nordeste</td>\n",
              "      <td>eletronico</td>\n",
              "    </tr>\n",
              "    <tr>\n",
              "      <th>2</th>\n",
              "      <td>Pacote7</td>\n",
              "      <td>Norte</td>\n",
              "      <td>brinquedos</td>\n",
              "    </tr>\n",
              "    <tr>\n",
              "      <th>3</th>\n",
              "      <td>Pacote11</td>\n",
              "      <td>Sudeste</td>\n",
              "      <td>joias</td>\n",
              "    </tr>\n",
              "    <tr>\n",
              "      <th>4</th>\n",
              "      <td>Pacote12</td>\n",
              "      <td>Sudeste</td>\n",
              "      <td>bebidas</td>\n",
              "    </tr>\n",
              "    <tr>\n",
              "      <th>5</th>\n",
              "      <td>Pacote13</td>\n",
              "      <td>Sul</td>\n",
              "      <td>eletronico</td>\n",
              "    </tr>\n",
              "    <tr>\n",
              "      <th>6</th>\n",
              "      <td>Pacote15</td>\n",
              "      <td>Nordeste</td>\n",
              "      <td>bebidas</td>\n",
              "    </tr>\n",
              "  </tbody>\n",
              "</table>\n",
              "</div>"
            ],
            "text/plain": [
              "    pacotes   destino     produto\n",
              "0   Pacote1     Norte  brinquedos\n",
              "1   Pacote6  Nordeste  eletronico\n",
              "2   Pacote7     Norte  brinquedos\n",
              "3  Pacote11   Sudeste       joias\n",
              "4  Pacote12   Sudeste     bebidas\n",
              "5  Pacote13       Sul  eletronico\n",
              "6  Pacote15  Nordeste     bebidas"
            ]
          },
          "metadata": {
            "tags": []
          },
          "execution_count": 15
        }
      ]
    }
  ]
}